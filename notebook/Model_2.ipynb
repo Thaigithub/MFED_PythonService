{
 "cells": [
  {
   "cell_type": "markdown",
   "metadata": {},
   "source": [
    "BIDIRECTIONAL LSTM FOR 2 FEATURE DURATION 24 HOURS"
   ]
  },
  {
   "cell_type": "markdown",
   "metadata": {},
   "source": [
    "Defining feature and duration"
   ]
  },
  {
   "cell_type": "code",
   "execution_count": null,
   "metadata": {},
   "outputs": [],
   "source": [
    "num_feature = 13\n",
    "time_step = 24"
   ]
  },
  {
   "cell_type": "markdown",
   "metadata": {},
   "source": [
    "Importing library"
   ]
  },
  {
   "cell_type": "code",
   "execution_count": null,
   "metadata": {},
   "outputs": [],
   "source": [
    "import csv\n",
    "import pandas as pd\n",
    "import numpy as np\n",
    "import matplotlib.pyplot as plt\n",
    "from keras.models import Sequential, load_model\n",
    "from keras.layers import Bidirectional, LSTM, Dense\n",
    "from sklearn.metrics import mean_squared_error, mean_absolute_error\n",
    "from sklearn.preprocessing import OneHotEncoder"
   ]
  },
  {
   "cell_type": "markdown",
   "metadata": {},
   "source": [
    "Importing data"
   ]
  },
  {
   "cell_type": "code",
   "execution_count": 3,
   "metadata": {},
   "outputs": [],
   "source": [
    "filename = './data/07-09-2023.csv'\n",
    "data = []\n",
    "with open(filename, 'r') as file:\n",
    "    csv_reader = csv.reader(file)\n",
    "    for row in csv_reader:\n",
    "        data.append(row)\n",
    "        \n",
    "df = pd.DataFrame(data)\n",
    "df.columns = [\"Record_ID\",\"Time\",\"Timestamp\",\"Temperature\",\"Disolved Oxygen\",\"Salinity\",\"pH\",\"Turbidity\"]\n",
    "df['Record_ID'] = df[\"Record_ID\"].astype(int)\n",
    "df['Time'] = df[\"Time\"].astype(str)\n",
    "df['Temperature'] = df[\"Temperature\"].astype(float)\n",
    "df['Disolved Oxygen'] = df[\"Disolved Oxygen\"].astype(float)\n",
    "df['Salinity'] = df[\"Salinity\"].astype(float)\n",
    "df['pH'] = df[\"pH\"].astype(float)\n",
    "df['Turbidity'] = df[\"Turbidity\"].astype(float)\n",
    "df = df.drop(columns='Timestamp')\n",
    "df = df.drop(columns='Record_ID')\n",
    "df['Time'] = pd.to_datetime(df['Time'],format=\"%d/%m/%Y %H:%M:%S\")\n",
    "df.set_index('Time', inplace=True)\n",
    "df.index = pd.to_datetime(df.index)\n",
    "df.sort_index(inplace=True)\n",
    "df = df.dropna()"
   ]
  },
  {
   "cell_type": "markdown",
   "metadata": {},
   "source": [
    "TEMPERATURE SECTION"
   ]
  },
  {
   "cell_type": "code",
   "execution_count": 4,
   "metadata": {},
   "outputs": [],
   "source": [
    "temp = df['Temperature']\n",
    "temp = temp[temp>=18]\n",
    "temp = temp.resample('H').mean()"
   ]
  },
  {
   "cell_type": "markdown",
   "metadata": {},
   "source": [
    "Splitting train and test data"
   ]
  },
  {
   "cell_type": "code",
   "execution_count": 5,
   "metadata": {},
   "outputs": [],
   "source": [
    "train = temp[(temp.index.year<2022) | ((temp.index.year==2022)&(temp.index.month<9))]\n",
    "test = temp[(temp.index.year>2022) | ((temp.index.year==2022)&(temp.index.month>=9))]"
   ]
  },
  {
   "cell_type": "code",
   "execution_count": 6,
   "metadata": {},
   "outputs": [],
   "source": [
    "month = np.array(train.index.month).reshape(-1,1)\n",
    "encoder = OneHotEncoder()\n",
    "month = encoder.fit(month).transform(month).toarray()\n",
    "train = np.column_stack((train.to_numpy(), month)).reshape(-1,1,13)\n",
    "\n",
    "month = np.array(test.index.month).reshape(-1,1)\n",
    "month = encoder.fit(month).transform(month).toarray()\n",
    "test = np.column_stack((test.to_numpy(), month)).reshape(-1,1,13)"
   ]
  },
  {
   "cell_type": "code",
   "execution_count": 7,
   "metadata": {},
   "outputs": [],
   "source": [
    "def split_train(array: np.array, duration: int):\n",
    "    x = np.empty((0,duration,num_feature))\n",
    "    y = np.empty((0,1))\n",
    "    for i in range(array.shape[0]-duration-1):\n",
    "        new_row_x = array[i:i+duration,0,:].reshape(1, duration,num_feature)\n",
    "        new_row_y = array[i+duration,0,0].reshape(1, 1)\n",
    "        if (np.any(np.isnan(new_row_x)) or np.any(np.isnan(new_row_y))): continue\n",
    "        else:\n",
    "            x = np.concatenate((x,new_row_x),axis=0)\n",
    "            y = np.concatenate((y,new_row_y),axis=0)\n",
    "    return x.reshape(x.shape[0],x.shape[1],num_feature), y.reshape(y.shape[0],1)"
   ]
  },
  {
   "cell_type": "markdown",
   "metadata": {},
   "source": [
    "Create Model"
   ]
  },
  {
   "cell_type": "code",
   "execution_count": 9,
   "metadata": {},
   "outputs": [
    {
     "name": "stdout",
     "output_type": "stream",
     "text": [
      "Model: \"sequential_1\"\n",
      "_________________________________________________________________\n",
      " Layer (type)                Output Shape              Param #   \n",
      "=================================================================\n",
      " bidirectional_1 (Bidirecti  (1, 256)                  145408    \n",
      " onal)                                                           \n",
      "                                                                 \n",
      " dense_1 (Dense)             (1, 1)                    257       \n",
      "                                                                 \n",
      "=================================================================\n",
      "Total params: 145665 (569.00 KB)\n",
      "Trainable params: 145665 (569.00 KB)\n",
      "Non-trainable params: 0 (0.00 Byte)\n",
      "_________________________________________________________________\n",
      "Epoch 1/10\n",
      "486/486 [==============================] - 11s 20ms/step - loss: 3.3040\n",
      "Epoch 2/10\n",
      "486/486 [==============================] - 10s 20ms/step - loss: 0.1752\n",
      "Epoch 3/10\n",
      "486/486 [==============================] - 9s 19ms/step - loss: 0.1585\n",
      "Epoch 4/10\n",
      "486/486 [==============================] - 9s 18ms/step - loss: 0.1359\n",
      "Epoch 5/10\n",
      "486/486 [==============================] - 9s 18ms/step - loss: 0.1265\n",
      "Epoch 6/10\n",
      "486/486 [==============================] - 8s 17ms/step - loss: 0.1271\n",
      "Epoch 7/10\n",
      "486/486 [==============================] - 8s 17ms/step - loss: 0.1183\n",
      "Epoch 8/10\n",
      "486/486 [==============================] - 8s 17ms/step - loss: 0.1223\n",
      "Epoch 9/10\n",
      "486/486 [==============================] - 8s 16ms/step - loss: 0.1239\n",
      "Epoch 10/10\n",
      "486/486 [==============================] - 8s 16ms/step - loss: 0.1035\n"
     ]
    },
    {
     "name": "stderr",
     "output_type": "stream",
     "text": [
      "e:\\EXTERNALC\\Python\\311\\Lib\\site-packages\\keras\\src\\engine\\training.py:3079: UserWarning: You are saving your model as an HDF5 file via `model.save()`. This file format is considered legacy. We recommend using instead the native Keras format, e.g. `model.save('my_model.keras')`.\n",
      "  saving_api.save_model(\n"
     ]
    },
    {
     "name": "stdout",
     "output_type": "stream",
     "text": [
      "267/267 [==============================] - 1s 4ms/step\n",
      "Mean Squared Error (MSE): 0.2916567382689566\n",
      "Mean Absolute Error (MAE): 0.4022655901467619\n",
      "Epoch 1/10\n",
      "486/486 [==============================] - 8s 17ms/step - loss: 0.1049\n",
      "Epoch 2/10\n",
      "486/486 [==============================] - 8s 16ms/step - loss: 0.8989\n",
      "Epoch 3/10\n",
      "486/486 [==============================] - 7s 15ms/step - loss: 0.2010\n",
      "Epoch 4/10\n",
      "486/486 [==============================] - 8s 16ms/step - loss: 0.1419\n",
      "Epoch 5/10\n",
      "486/486 [==============================] - 8s 16ms/step - loss: 0.1197\n",
      "Epoch 6/10\n",
      "486/486 [==============================] - 8s 16ms/step - loss: 0.1064\n",
      "Epoch 7/10\n",
      "486/486 [==============================] - 8s 16ms/step - loss: 0.1051\n",
      "Epoch 8/10\n",
      "486/486 [==============================] - 9s 19ms/step - loss: 0.0986\n",
      "Epoch 9/10\n",
      "486/486 [==============================] - 10s 21ms/step - loss: 0.1017\n",
      "Epoch 10/10\n",
      "486/486 [==============================] - 11s 22ms/step - loss: 0.0989\n"
     ]
    },
    {
     "name": "stderr",
     "output_type": "stream",
     "text": [
      "e:\\EXTERNALC\\Python\\311\\Lib\\site-packages\\keras\\src\\engine\\training.py:3079: UserWarning: You are saving your model as an HDF5 file via `model.save()`. This file format is considered legacy. We recommend using instead the native Keras format, e.g. `model.save('my_model.keras')`.\n",
      "  saving_api.save_model(\n"
     ]
    },
    {
     "name": "stdout",
     "output_type": "stream",
     "text": [
      "267/267 [==============================] - 1s 5ms/step\n",
      "Mean Squared Error (MSE): 0.18612799641708036\n",
      "Mean Absolute Error (MAE): 0.2632943178723545\n",
      "Epoch 1/10\n",
      "486/486 [==============================] - 10s 20ms/step - loss: 0.0977\n",
      "Epoch 2/10\n",
      "486/486 [==============================] - 10s 20ms/step - loss: 0.1057\n",
      "Epoch 3/10\n",
      "486/486 [==============================] - 10s 21ms/step - loss: 0.1008\n",
      "Epoch 4/10\n",
      "486/486 [==============================] - 11s 24ms/step - loss: 0.0934\n",
      "Epoch 5/10\n",
      "486/486 [==============================] - 10s 22ms/step - loss: 0.0951\n",
      "Epoch 6/10\n",
      "486/486 [==============================] - 11s 23ms/step - loss: 0.0992\n",
      "Epoch 7/10\n",
      "486/486 [==============================] - 11s 23ms/step - loss: 0.0930\n",
      "Epoch 8/10\n",
      "486/486 [==============================] - 12s 24ms/step - loss: 0.0864\n",
      "Epoch 9/10\n",
      "486/486 [==============================] - 16s 32ms/step - loss: 0.0912\n",
      "Epoch 10/10\n",
      "486/486 [==============================] - 18s 37ms/step - loss: 0.0921\n"
     ]
    },
    {
     "name": "stderr",
     "output_type": "stream",
     "text": [
      "e:\\EXTERNALC\\Python\\311\\Lib\\site-packages\\keras\\src\\engine\\training.py:3079: UserWarning: You are saving your model as an HDF5 file via `model.save()`. This file format is considered legacy. We recommend using instead the native Keras format, e.g. `model.save('my_model.keras')`.\n",
      "  saving_api.save_model(\n"
     ]
    },
    {
     "name": "stdout",
     "output_type": "stream",
     "text": [
      "267/267 [==============================] - 2s 7ms/step\n",
      "Mean Squared Error (MSE): 0.18236685836969538\n",
      "Mean Absolute Error (MAE): 0.2944413743986883\n",
      "Epoch 1/10\n",
      "486/486 [==============================] - 9s 19ms/step - loss: 0.0897\n",
      "Epoch 2/10\n",
      "486/486 [==============================] - 10s 21ms/step - loss: 0.0929\n",
      "Epoch 3/10\n",
      "486/486 [==============================] - 10s 22ms/step - loss: 0.0928\n",
      "Epoch 4/10\n",
      "486/486 [==============================] - 9s 19ms/step - loss: 0.0881\n",
      "Epoch 5/10\n",
      "486/486 [==============================] - 9s 19ms/step - loss: 0.0908\n",
      "Epoch 6/10\n",
      "486/486 [==============================] - 9s 18ms/step - loss: 0.0872\n",
      "Epoch 7/10\n",
      "486/486 [==============================] - 10s 21ms/step - loss: 0.0882\n",
      "Epoch 8/10\n",
      "486/486 [==============================] - 12s 24ms/step - loss: 0.0909\n",
      "Epoch 9/10\n",
      "486/486 [==============================] - 14s 29ms/step - loss: 0.0936\n",
      "Epoch 10/10\n",
      "486/486 [==============================] - 16s 33ms/step - loss: 0.0866\n"
     ]
    },
    {
     "name": "stderr",
     "output_type": "stream",
     "text": [
      "e:\\EXTERNALC\\Python\\311\\Lib\\site-packages\\keras\\src\\engine\\training.py:3079: UserWarning: You are saving your model as an HDF5 file via `model.save()`. This file format is considered legacy. We recommend using instead the native Keras format, e.g. `model.save('my_model.keras')`.\n",
      "  saving_api.save_model(\n"
     ]
    },
    {
     "name": "stdout",
     "output_type": "stream",
     "text": [
      "267/267 [==============================] - 4s 14ms/step\n",
      "Mean Squared Error (MSE): 0.1664684129569363\n",
      "Mean Absolute Error (MAE): 0.2591720069291833\n"
     ]
    }
   ],
   "source": [
    "model = Sequential()\n",
    "model.add(Bidirectional(LSTM(128,activation='relu', input_shape=(time_step,num_feature))))\n",
    "model.add(Dense(1))\n",
    "model.compile(optimizer='adam', loss='mse')\n",
    "model.build(input_shape=(1,time_step,num_feature))\n",
    "model.summary()\n",
    "mse = 1\n",
    "while mse>0.17:\n",
    "    x_train, y_train = split_train(train,time_step)\n",
    "    model.fit(x_train, y_train, epochs=10)\n",
    "    model.save('./model/Bidirect-LSTM_24h_2feature.h5')\n",
    "    x_test, y_test = split_train(test,time_step)\n",
    "    y_predict = np.array(model.predict(x_test))\n",
    "    y_test = y_test.ravel()\n",
    "    y_predict = y_predict.ravel()\n",
    "    mse = mean_squared_error(y_test, y_predict)\n",
    "    mae = mean_absolute_error(y_test, y_predict)\n",
    "    print(\"Mean Squared Error (MSE):\", mse)\n",
    "    print(\"Mean Absolute Error (MAE):\", mae)"
   ]
  },
  {
   "cell_type": "markdown",
   "metadata": {},
   "source": [
    "Load Model"
   ]
  },
  {
   "cell_type": "code",
   "execution_count": null,
   "metadata": {},
   "outputs": [],
   "source": [
    "# model = load_model('./model/Bidirect-LSTM_24h_2feature.h5')\n",
    "# model.build(input_shape=(1,time_step,num_feature))\n",
    "# model.summary()"
   ]
  },
  {
   "cell_type": "markdown",
   "metadata": {},
   "source": [
    "Predicting 1 hour ahead of 24 hour data point"
   ]
  },
  {
   "cell_type": "code",
   "execution_count": null,
   "metadata": {},
   "outputs": [],
   "source": [
    "time = np.arange(len(y_predict))\n",
    "plt.figure(figsize=(100,6))\n",
    "plt.plot(time, y_test, label=\"Real data\", color='blue')\n",
    "plt.plot(time, y_predict, label=\"Predict\",color='red')\n",
    "plt.xlabel('Date')\n",
    "plt.ylabel('Value')\n",
    "plt.title('Time Series Plot')\n",
    "plt.legend()\n",
    "plt.show()"
   ]
  },
  {
   "cell_type": "markdown",
   "metadata": {},
   "source": [
    "Predicting 3 day ahead of 24 hour data point"
   ]
  },
  {
   "cell_type": "code",
   "execution_count": null,
   "metadata": {},
   "outputs": [],
   "source": [
    "def period_predict(array: np.array, hours_predict:int, time: np.array):\n",
    "    y_hat = np.empty((array.shape[0],0))\n",
    "    for i in range(hours_predict):\n",
    "        y_hat = np.column_stack((y_hat,np.array(model.predict(array[:,i:,:])).reshape(-1,1)))\n",
    "        time = time + np.timedelta64(1,'h')\n",
    "        months = np.array([d.astype('datetime64[M]').astype(int) % 12 + 1 for d in time]).reshape(-1,1)\n",
    "        months = encoder.fit(months).transform(months).toarray()\n",
    "        data = np.copy(y_hat[:,-1]).reshape(-1,1)\n",
    "        data = np.column_stack((data,months)).reshape(-1,1,num_feature)\n",
    "        array = np.column_stack((array,data))\n",
    "    return y_hat.reshape(y_hat.shape[0],y_hat.shape[1],1)\n",
    "\n",
    "def split_test(array: np.array, duration: int, hours_predict:int, time_index: np.array):\n",
    "    x = np.empty((0,duration,num_feature))\n",
    "    y = np.empty((0,hours_predict))\n",
    "    time = np.empty((0,1), dtype='datetime64')\n",
    "    for i in range(array.shape[0]-duration-hours_predict-1):\n",
    "        new_row_x = array[i:i+duration].reshape(1, duration, num_feature)\n",
    "        new_row_y = array[i+duration:i+duration+hours_predict,0,0].reshape(1, hours_predict)\n",
    "        if (np.any(np.isnan(new_row_x)) or np.any(np.isnan(new_row_y))): continue\n",
    "        else:\n",
    "            x = np.concatenate((x,new_row_x),axis=0)\n",
    "            y = np.concatenate((y,new_row_y),axis=0)\n",
    "            time = np.row_stack((time, [time_index[i]]))\n",
    "    return x.reshape(x.shape[0],x.shape[1],num_feature), y.reshape(y.shape[0],y.shape[1],1),time"
   ]
  },
  {
   "cell_type": "code",
   "execution_count": null,
   "metadata": {},
   "outputs": [],
   "source": [
    "test = temp[(temp.index.year>2022) | ((temp.index.year==2022)&(temp.index.month>=9))]\n",
    "time = np.array(test.index, dtype='datetime64')\n",
    "month = np.array(test.index.month).reshape(-1,1)\n",
    "month = encoder.fit(month).transform(month).toarray()\n",
    "test = np.column_stack((test.to_numpy(), month)).reshape(-1,1,13)\n",
    "time = time + np.timedelta64(23,'h')"
   ]
  },
  {
   "cell_type": "code",
   "execution_count": null,
   "metadata": {},
   "outputs": [],
   "source": [
    "new_x_test, new_y_test, new_time = split_test(test,24,72,time)\n",
    "new_y_predict = period_predict(new_x_test,72,new_time)"
   ]
  },
  {
   "cell_type": "code",
   "execution_count": null,
   "metadata": {},
   "outputs": [],
   "source": [
    "for i in range(int(72/6)):\n",
    "    frac_y_predict = new_y_predict[:,6*i:6*(i+1)]\n",
    "    frac_y_test = new_y_test[:,6*i:6*(i+1)]\n",
    "    frac_y_predict = frac_y_predict.ravel()\n",
    "    frac_y_test = frac_y_test.ravel()\n",
    "    print(\"Errors from \" + str(6*i) + \"h to \" + str(6*(i+1))+\" h:\")\n",
    "    new_mse = mean_squared_error(frac_y_test, frac_y_predict)\n",
    "    new_mae = mean_absolute_error(frac_y_test, frac_y_predict)\n",
    "    print(\"Mean Squared Error (MSE):\", new_mse)\n",
    "    print(\"Mean Absolute Error (MAE):\", new_mae)\n",
    "\n",
    "new_y_test = new_y_test.ravel()\n",
    "new_y_predict = new_y_predict.ravel()\n",
    "new_mse = mean_squared_error(new_y_test, new_y_predict)\n",
    "new_mae = mean_absolute_error(new_y_test, new_y_predict)\n",
    "print(\"Errors in 72 hours\")\n",
    "print(\"Mean Squared Error (MSE):\", new_mse)\n",
    "print(\"Mean Absolute Error (MAE):\", new_mae)"
   ]
  },
  {
   "cell_type": "code",
   "execution_count": null,
   "metadata": {},
   "outputs": [],
   "source": [
    "diff = np.abs(y_predict - y_test)\n",
    "print(max(diff))"
   ]
  }
 ],
 "metadata": {
  "kernelspec": {
   "display_name": "Python 3",
   "language": "python",
   "name": "python3"
  },
  "language_info": {
   "codemirror_mode": {
    "name": "ipython",
    "version": 3
   },
   "file_extension": ".py",
   "mimetype": "text/x-python",
   "name": "python",
   "nbconvert_exporter": "python",
   "pygments_lexer": "ipython3",
   "version": "3.11.4"
  },
  "orig_nbformat": 4
 },
 "nbformat": 4,
 "nbformat_minor": 2
}
