{
 "cells": [
  {
   "cell_type": "markdown",
   "metadata": {},
   "source": [
    "BIDIRECTIONAL LSTM FOR 1 FEATURE DURATION 24 HOURS"
   ]
  },
  {
   "cell_type": "code",
   "execution_count": null,
   "metadata": {},
   "outputs": [],
   "source": [
    "num_feature = 1"
   ]
  },
  {
   "cell_type": "markdown",
   "metadata": {},
   "source": [
    "Importing library"
   ]
  },
  {
   "cell_type": "code",
   "execution_count": null,
   "metadata": {},
   "outputs": [],
   "source": [
    "import csv\n",
    "import pandas as pd\n",
    "import numpy as np\n",
    "import matplotlib.pyplot as plt\n",
    "from keras.models import Sequential, load_model\n",
    "from keras.layers import Bidirectional, LSTM, Dense\n",
    "from sklearn.metrics import mean_squared_error, mean_absolute_error\n",
    "import xgboost as xgb"
   ]
  },
  {
   "cell_type": "markdown",
   "metadata": {},
   "source": [
    "Importing data"
   ]
  },
  {
   "cell_type": "code",
   "execution_count": null,
   "metadata": {},
   "outputs": [],
   "source": [
    "filename = '../data/07-09-2023.csv'\n",
    "data = []\n",
    "with open(filename, 'r') as file:\n",
    "    csv_reader = csv.reader(file)\n",
    "    for row in csv_reader:\n",
    "        data.append(row)\n",
    "        \n",
    "df = pd.DataFrame(data)\n",
    "df.columns = [\"Record_ID\",\"Time\",\"Temperature\",\"Disolved Oxygen\",\"Salinity\",\"pH\",\"Turbidity\",\"DHT Temperature\",\"DHT Moisture\",\"Longitude\",\"Latitude\"]\n",
    "df['Record_ID'] = df[\"Record_ID\"].astype(int)\n",
    "df['Time'] = df[\"Time\"].astype(str)\n",
    "df['Temperature'] = df[\"Temperature\"].astype(float)\n",
    "df['Disolved Oxygen'] = df[\"Disolved Oxygen\"].astype(float)\n",
    "df['Salinity'] = df[\"Salinity\"].astype(float)\n",
    "df['pH'] = df[\"pH\"].astype(float)\n",
    "df['Turbidity'] = df[\"Turbidity\"].astype(float)\n",
    "df = df.drop(columns='Record_ID')\n",
    "df = df.drop(columns='DHT Temperature')\n",
    "df = df.drop(columns='DHT Moisture')\n",
    "df = df.drop(columns='Longitude')\n",
    "df = df.drop(columns='Latitude')\n",
    "df['Time'] = pd.to_datetime(df['Time'],format=\"%d/%m/%Y %H:%M:%S\")\n",
    "df.set_index('Time', inplace=True)\n",
    "df.index = pd.to_datetime(df.index)\n",
    "df.sort_index(inplace=True)\n",
    "df.describe()"
   ]
  },
  {
   "cell_type": "code",
   "execution_count": null,
   "metadata": {},
   "outputs": [],
   "source": [
    "temp = df['Temperature']\n",
    "temp = temp[temp>=18]\n",
    "temp = temp.resample('H').mean()"
   ]
  },
  {
   "cell_type": "markdown",
   "metadata": {},
   "source": [
    "Splitting train and test data"
   ]
  },
  {
   "cell_type": "code",
   "execution_count": null,
   "metadata": {},
   "outputs": [],
   "source": [
    "train = temp[(temp.index.year<2022) | ((temp.index.year==2022)&(temp.index.month<9))]\n",
    "test = temp[(temp.index.year>2022) | ((temp.index.year==2022)&(temp.index.month>=9))]"
   ]
  },
  {
   "cell_type": "markdown",
   "metadata": {},
   "source": [
    "Observe data"
   ]
  },
  {
   "cell_type": "code",
   "execution_count": null,
   "metadata": {},
   "outputs": [],
   "source": [
    "plt.figure(figsize=(100,6))\n",
    "plt.plot(train.index,train.to_numpy().ravel())\n",
    "plt.legend()\n",
    "plt.show()"
   ]
  },
  {
   "cell_type": "code",
   "execution_count": null,
   "metadata": {},
   "outputs": [],
   "source": [
    "# train.resample('D').agg(['mean', 'sum', 'std']).plot(subplots = True, title='Temperature resampled over day', color='red')\n",
    "# plt.show()"
   ]
  },
  {
   "cell_type": "code",
   "execution_count": null,
   "metadata": {
    "tags": []
   },
   "outputs": [],
   "source": [
    "# train.resample('M').mean().plot(kind='bar')\n",
    "# plt.ylabel('Temperature')\n",
    "# plt.title('Temperature per month (averaged over month)')\n",
    "# plt.show()"
   ]
  },
  {
   "cell_type": "markdown",
   "metadata": {},
   "source": [
    "Function Prepare training data"
   ]
  },
  {
   "cell_type": "code",
   "execution_count": null,
   "metadata": {},
   "outputs": [],
   "source": [
    "def split_train(array: np.array, duration: int):\n",
    "    x = np.empty((0,duration))\n",
    "    y = np.empty((0,1))\n",
    "    for i in range(array.shape[0]-duration-1):\n",
    "        new_row_x = array[i:i+duration].reshape(1, duration)\n",
    "        new_row_y = array[i+duration].reshape(1, 1)\n",
    "        if (np.any(np.isnan(new_row_x)) or np.any(np.isnan(new_row_y))): continue\n",
    "        else:\n",
    "            x = np.concatenate((x,new_row_x),axis=0)\n",
    "            y = np.concatenate((y,new_row_y),axis=0)\n",
    "    return x.reshape(x.shape[0],x.shape[1],num_feature), y.reshape(y.shape[0],1)"
   ]
  },
  {
   "cell_type": "markdown",
   "metadata": {},
   "source": [
    "Bidirectional LSTM"
   ]
  },
  {
   "cell_type": "markdown",
   "metadata": {},
   "source": [
    "Bidirect-LSTM_24h_1feature_64node"
   ]
  },
  {
   "cell_type": "code",
   "execution_count": null,
   "metadata": {},
   "outputs": [],
   "source": [
    "time_step = 24"
   ]
  },
  {
   "cell_type": "code",
   "execution_count": null,
   "metadata": {},
   "outputs": [],
   "source": [
    "x_train, y_train = split_train(train.to_numpy(),time_step)"
   ]
  },
  {
   "cell_type": "markdown",
   "metadata": {},
   "source": [
    "Create and train model"
   ]
  },
  {
   "cell_type": "code",
   "execution_count": null,
   "metadata": {},
   "outputs": [],
   "source": [
    "# model_1 = Sequential()\n",
    "# model_1.add(Bidirectional(LSTM(64,activation='relu', input_shape=(time_step,num_feature))))\n",
    "# model_1.add(Dense(1))\n",
    "# model_1.compile(optimizer='adam', loss='mse')\n",
    "# model_1.build(input_shape=(1,time_step,num_feature))\n",
    "# model_1.summary()\n",
    "# model_1.fit(x_train, y_train, epochs=10)\n",
    "# model_1.save('../model/Bidirect-LSTM_24h_1feature_64node.h5')"
   ]
  },
  {
   "cell_type": "markdown",
   "metadata": {},
   "source": [
    "Load model"
   ]
  },
  {
   "cell_type": "code",
   "execution_count": null,
   "metadata": {},
   "outputs": [],
   "source": [
    "model_1 = load_model('../model/Bidirect-LSTM_24h_1feature_64node.h5')\n",
    "model_1.build(input_shape=(1,time_step,num_feature))\n",
    "model_1.summary()"
   ]
  },
  {
   "cell_type": "markdown",
   "metadata": {},
   "source": [
    "Test model"
   ]
  },
  {
   "cell_type": "code",
   "execution_count": null,
   "metadata": {},
   "outputs": [],
   "source": [
    "x_test, y_test = split_train(test.to_numpy(),time_step)\n",
    "y_predict = np.array(model_1.predict(x_test))\n",
    "y_test = y_test.ravel()\n",
    "y_predict = y_predict.ravel()\n",
    "mse = mean_squared_error(y_test, y_predict)\n",
    "mae = mean_absolute_error(y_test, y_predict)\n",
    "print(\"Mean Squared Error (MSE):\", mse)\n",
    "print(\"Mean Absolute Error (MAE):\", mae)"
   ]
  },
  {
   "cell_type": "code",
   "execution_count": null,
   "metadata": {},
   "outputs": [],
   "source": [
    "time = np.arange(len(y_predict))\n",
    "plt.figure(figsize=(100,6))\n",
    "plt.plot(time, y_test, label=\"Real data\", color='blue')\n",
    "plt.plot(time, y_predict, label=\"Predict\",color='red')\n",
    "plt.xlabel('Date')\n",
    "plt.ylabel('Value')\n",
    "plt.title('Time Series Plot')\n",
    "plt.legend()\n",
    "plt.show()"
   ]
  },
  {
   "cell_type": "markdown",
   "metadata": {},
   "source": [
    "Bidirect-LSTM_48h_1feature_64node"
   ]
  },
  {
   "cell_type": "code",
   "execution_count": null,
   "metadata": {},
   "outputs": [],
   "source": [
    "time_step = 24"
   ]
  },
  {
   "cell_type": "code",
   "execution_count": null,
   "metadata": {},
   "outputs": [],
   "source": [
    "x_train, y_train = split_train(train.to_numpy(),time_step)"
   ]
  },
  {
   "cell_type": "markdown",
   "metadata": {},
   "source": [
    "Create and train model"
   ]
  },
  {
   "cell_type": "code",
   "execution_count": null,
   "metadata": {},
   "outputs": [],
   "source": [
    "# model_2 = Sequential()\n",
    "# model_2.add(Bidirectional(LSTM(64,activation='relu', input_shape=(time_step,num_feature))))\n",
    "# model_2.add(Dense(1))\n",
    "# model_2.compile(optimizer='adam', loss='mse')\n",
    "# model_2.build(input_shape=(1,time_step,num_feature))\n",
    "# model_2.summary()\n",
    "# model_2.fit(x_train, y_train, epochs=10)\n",
    "# model_2.save('../model/Bidirect-LSTM_48h_1feature_64node.h5')"
   ]
  },
  {
   "cell_type": "markdown",
   "metadata": {},
   "source": [
    "Load model"
   ]
  },
  {
   "cell_type": "code",
   "execution_count": null,
   "metadata": {},
   "outputs": [],
   "source": [
    "model_2 = load_model('../model/Bidirect-LSTM_48h_1feature_64node.h5')\n",
    "model_2.build(input_shape=(1,time_step,num_feature))\n",
    "model_2.summary()"
   ]
  },
  {
   "cell_type": "markdown",
   "metadata": {},
   "source": [
    "Test model"
   ]
  },
  {
   "cell_type": "code",
   "execution_count": null,
   "metadata": {},
   "outputs": [],
   "source": [
    "x_test, y_test = split_train(test.to_numpy(),time_step)\n",
    "y_predict = np.array(model_2.predict(x_test))\n",
    "y_test = y_test.ravel()\n",
    "y_predict = y_predict.ravel()\n",
    "mse = mean_squared_error(y_test, y_predict)\n",
    "mae = mean_absolute_error(y_test, y_predict)\n",
    "print(\"Mean Squared Error (MSE):\", mse)\n",
    "print(\"Mean Absolute Error (MAE):\", mae)"
   ]
  },
  {
   "cell_type": "code",
   "execution_count": null,
   "metadata": {},
   "outputs": [],
   "source": [
    "time = np.arange(len(y_predict))\n",
    "plt.figure(figsize=(100,6))\n",
    "plt.plot(time, y_test, label=\"Real data\", color='blue')\n",
    "plt.plot(time, y_predict, label=\"Predict\",color='red')\n",
    "plt.xlabel('Date')\n",
    "plt.ylabel('Value')\n",
    "plt.title('Time Series Plot')\n",
    "plt.legend()\n",
    "plt.show()"
   ]
  },
  {
   "cell_type": "markdown",
   "metadata": {},
   "source": [
    "Bidirect-LSTM_48h_1feature_128node"
   ]
  },
  {
   "cell_type": "code",
   "execution_count": null,
   "metadata": {},
   "outputs": [],
   "source": [
    "time_step = 24"
   ]
  },
  {
   "cell_type": "code",
   "execution_count": null,
   "metadata": {},
   "outputs": [],
   "source": [
    "x_train, y_train = split_train(train.to_numpy(),time_step)"
   ]
  },
  {
   "cell_type": "markdown",
   "metadata": {},
   "source": [
    "Create and train model"
   ]
  },
  {
   "cell_type": "code",
   "execution_count": null,
   "metadata": {},
   "outputs": [],
   "source": [
    "# model_3 = Sequential()\n",
    "# model_3.add(Bidirectional(LSTM(128,activation='relu', input_shape=(time_step,num_feature))))\n",
    "# model_3.add(Dense(1))\n",
    "# model_3.compile(optimizer='adam', loss='mse')\n",
    "# model_3.build(input_shape=(1,time_step,num_feature))\n",
    "# model_3.summary()\n",
    "# model_3.fit(x_train, y_train, epochs=10)\n",
    "# model_3.save('../model/Bidirect-LSTM_24h_1feature_128node.h5')"
   ]
  },
  {
   "cell_type": "markdown",
   "metadata": {},
   "source": [
    "Load model"
   ]
  },
  {
   "cell_type": "code",
   "execution_count": null,
   "metadata": {},
   "outputs": [],
   "source": [
    "model_3 = load_model('../model/Bidirect-LSTM_24h_1feature_128node.h5')\n",
    "model_3.build(input_shape=(1,time_step,num_feature))\n",
    "model_3.summary()"
   ]
  },
  {
   "cell_type": "markdown",
   "metadata": {},
   "source": [
    "Test model"
   ]
  },
  {
   "cell_type": "code",
   "execution_count": null,
   "metadata": {},
   "outputs": [],
   "source": [
    "x_test, y_test = split_train(test.to_numpy(),time_step)\n",
    "y_predict = np.array(model_3.predict(x_test))\n",
    "y_test = y_test.ravel()\n",
    "y_predict = y_predict.ravel()\n",
    "mse = mean_squared_error(y_test, y_predict)\n",
    "mae = mean_absolute_error(y_test, y_predict)\n",
    "print(\"Mean Squared Error (MSE):\", mse)\n",
    "print(\"Mean Absolute Error (MAE):\", mae)"
   ]
  },
  {
   "cell_type": "code",
   "execution_count": null,
   "metadata": {},
   "outputs": [],
   "source": [
    "time = np.arange(len(y_predict))\n",
    "plt.figure(figsize=(100,6))\n",
    "plt.plot(time, y_test, label=\"Real data\", color='blue')\n",
    "plt.plot(time, y_predict, label=\"Predict\",color='red')\n",
    "plt.xlabel('Date')\n",
    "plt.ylabel('Value')\n",
    "plt.title('Time Series Plot')\n",
    "plt.legend()\n",
    "plt.show()"
   ]
  },
  {
   "cell_type": "markdown",
   "metadata": {},
   "source": [
    "XGBoost"
   ]
  },
  {
   "cell_type": "markdown",
   "metadata": {},
   "source": [
    "XGBoost 24 hours 24 max depth"
   ]
  },
  {
   "cell_type": "code",
   "execution_count": null,
   "metadata": {},
   "outputs": [],
   "source": [
    "time_step = 24"
   ]
  },
  {
   "cell_type": "code",
   "execution_count": null,
   "metadata": {},
   "outputs": [],
   "source": [
    "x_train, y_train = split_train(train.to_numpy(),time_step)\n",
    "x_test, y_test = split_train(test.to_numpy(),time_step)"
   ]
  },
  {
   "cell_type": "code",
   "execution_count": null,
   "metadata": {},
   "outputs": [],
   "source": [
    "x_train = x_train.reshape(-1,time_step)\n",
    "y_train = y_train.reshape(-1)\n",
    "x_test = x_test.reshape(-1,time_step)\n",
    "y_test = y_test.reshape(-1)\n",
    "x_train = pd.DataFrame(x_train)\n",
    "x_test = pd.DataFrame(x_test)"
   ]
  },
  {
   "cell_type": "code",
   "execution_count": null,
   "metadata": {},
   "outputs": [],
   "source": [
    "params = {\n",
    "    'objective': 'reg:squarederror',\n",
    "    'n_estimators': 100,\n",
    "    'max_depth': 24,\n",
    "    'learning_rate': 0.1,\n",
    "    'subsample': 0.8\n",
    "}\n",
    "model_4 = xgb.XGBRegressor(**params)\n",
    "model_4.fit(x_train,y_train)\n",
    "y_predict = model_4.predict(x_test)\n",
    "y_predict  = y_predict.ravel()\n",
    "mse = mean_squared_error(y_test, y_predict)\n",
    "mae = mean_absolute_error(y_test, y_predict)\n",
    "print(\"Mean Squared Error (MSE):\", mse)\n",
    "print(\"Mean Absolute Error (MAE):\", mae)\n",
    "time = np.arange(len(y_predict))\n",
    "plt.figure(figsize=(100,6))\n",
    "plt.plot(time, y_test, label=\"Real data\", color='blue')\n",
    "plt.plot(time, y_predict, label=\"Predict\",color='red')\n",
    "plt.xlabel('Date')\n",
    "plt.ylabel('Value')\n",
    "plt.title('Time Series Plot')\n",
    "plt.legend()\n",
    "plt.show()"
   ]
  },
  {
   "cell_type": "markdown",
   "metadata": {},
   "source": [
    "XGBoost 48 hours 24 max depth"
   ]
  },
  {
   "cell_type": "code",
   "execution_count": null,
   "metadata": {},
   "outputs": [],
   "source": [
    "time_step = 48"
   ]
  },
  {
   "cell_type": "code",
   "execution_count": null,
   "metadata": {},
   "outputs": [],
   "source": [
    "x_train, y_train = split_train(train.to_numpy(),time_step)\n",
    "x_test, y_test = split_train(test.to_numpy(),time_step)"
   ]
  },
  {
   "cell_type": "code",
   "execution_count": null,
   "metadata": {},
   "outputs": [],
   "source": [
    "x_train = x_train.reshape(-1,time_step)\n",
    "y_train = y_train.reshape(-1)\n",
    "x_test = x_test.reshape(-1,time_step)\n",
    "y_test = y_test.reshape(-1)\n",
    "x_train = pd.DataFrame(x_train)\n",
    "x_test = pd.DataFrame(x_test)"
   ]
  },
  {
   "cell_type": "code",
   "execution_count": null,
   "metadata": {},
   "outputs": [],
   "source": [
    "params = {\n",
    "    'objective': 'reg:squarederror',\n",
    "    'n_estimators': 100,\n",
    "    'max_depth': 24,\n",
    "    'learning_rate': 0.1,\n",
    "    'subsample': 0.8\n",
    "}\n",
    "model_4 = xgb.XGBRegressor(**params)\n",
    "model_4.fit(x_train,y_train)\n",
    "y_predict = model_4.predict(x_test)\n",
    "y_predict  = y_predict.ravel()\n",
    "mse = mean_squared_error(y_test, y_predict)\n",
    "mae = mean_absolute_error(y_test, y_predict)\n",
    "print(\"Mean Squared Error (MSE):\", mse)\n",
    "print(\"Mean Absolute Error (MAE):\", mae)\n",
    "time = np.arange(len(y_predict))\n",
    "plt.figure(figsize=(100,6))\n",
    "plt.plot(time, y_test, label=\"Real data\", color='blue')\n",
    "plt.plot(time, y_predict, label=\"Predict\",color='red')\n",
    "plt.xlabel('Date')\n",
    "plt.ylabel('Value')\n",
    "plt.title('Time Series Plot')\n",
    "plt.legend()\n",
    "plt.show()"
   ]
  },
  {
   "cell_type": "markdown",
   "metadata": {},
   "source": [
    "XGBoost 24 hours 48 max depth"
   ]
  },
  {
   "cell_type": "code",
   "execution_count": null,
   "metadata": {},
   "outputs": [],
   "source": [
    "time_step = 24"
   ]
  },
  {
   "cell_type": "code",
   "execution_count": null,
   "metadata": {},
   "outputs": [],
   "source": [
    "x_train, y_train = split_train(train.to_numpy(),time_step)\n",
    "x_test, y_test = split_train(test.to_numpy(),time_step)"
   ]
  },
  {
   "cell_type": "code",
   "execution_count": null,
   "metadata": {},
   "outputs": [],
   "source": [
    "x_train = x_train.reshape(-1,time_step)\n",
    "y_train = y_train.reshape(-1)\n",
    "x_test = x_test.reshape(-1,time_step)\n",
    "y_test = y_test.reshape(-1)\n",
    "x_train = pd.DataFrame(x_train)\n",
    "x_test = pd.DataFrame(x_test)"
   ]
  },
  {
   "cell_type": "code",
   "execution_count": null,
   "metadata": {},
   "outputs": [],
   "source": [
    "params = {\n",
    "    'objective': 'reg:squarederror',\n",
    "    'n_estimators': 100,\n",
    "    'max_depth': 48,\n",
    "    'learning_rate': 0.1,\n",
    "    'subsample': 0.8\n",
    "}\n",
    "model_4 = xgb.XGBRegressor(**params)\n",
    "model_4.fit(x_train,y_train)\n",
    "y_predict = model_4.predict(x_test)\n",
    "y_predict  = y_predict.ravel()\n",
    "mse = mean_squared_error(y_test, y_predict)\n",
    "mae = mean_absolute_error(y_test, y_predict)\n",
    "print(\"Mean Squared Error (MSE):\", mse)\n",
    "print(\"Mean Absolute Error (MAE):\", mae)\n",
    "time = np.arange(len(y_predict))\n",
    "plt.figure(figsize=(100,6))\n",
    "plt.plot(time, y_test, label=\"Real data\", color='blue')\n",
    "plt.plot(time, y_predict, label=\"Predict\",color='red')\n",
    "plt.xlabel('Date')\n",
    "plt.ylabel('Value')\n",
    "plt.title('Time Series Plot')\n",
    "plt.legend()\n",
    "plt.show()"
   ]
  }
 ],
 "metadata": {
  "kernelspec": {
   "display_name": "Python 3",
   "language": "python",
   "name": "python3"
  },
  "language_info": {
   "codemirror_mode": {
    "name": "ipython",
    "version": 3
   },
   "file_extension": ".py",
   "mimetype": "text/x-python",
   "name": "python",
   "nbconvert_exporter": "python",
   "pygments_lexer": "ipython3",
   "version": "3.11.4"
  },
  "orig_nbformat": 4
 },
 "nbformat": 4,
 "nbformat_minor": 2
}
