{
 "cells": [
  {
   "cell_type": "code",
   "execution_count": 19,
   "metadata": {},
   "outputs": [
    {
     "name": "stdout",
     "output_type": "stream",
     "text": [
      "129\n"
     ]
    }
   ],
   "source": [
    "import requests\n",
    "import threading\n",
    "import datetime\n",
    "from bs4 import BeautifulSoup\n",
    "\n",
    "current_datetime = datetime.datetime.now()\n",
    "timestamp = int(current_datetime.timestamp()*1000)\n",
    "stationid = 1\n",
    "session = requests.Session()\n",
    "session.post('https://rapido.npnlab.com/vi/Account/Login?username=nhan&password=nhan')\n",
    "\n",
    "page=1\n",
    "response = session.get('https://rapido.npnlab.com/vi/Value/GridSearch?rows=500&stationid='+str(stationid)+'&_='+str(timestamp)+\"&_page=\"+str(page))\n",
    "soup = BeautifulSoup(response.text, 'lxml') \n",
    "numpage = int(soup.find_all('button')[-1].get('data-page'))\n",
    "while page<=numpage:\n",
    "    pass\n",
    "print(numpage)\n"
   ]
  }
 ],
 "metadata": {
  "kernelspec": {
   "display_name": "VirtualEnvironment",
   "language": "python",
   "name": "python3"
  },
  "language_info": {
   "codemirror_mode": {
    "name": "ipython",
    "version": 3
   },
   "file_extension": ".py",
   "mimetype": "text/x-python",
   "name": "python",
   "nbconvert_exporter": "python",
   "pygments_lexer": "ipython3",
   "version": "3.11.4"
  },
  "orig_nbformat": 4
 },
 "nbformat": 4,
 "nbformat_minor": 2
}
