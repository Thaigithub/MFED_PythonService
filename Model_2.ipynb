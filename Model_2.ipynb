{
 "cells": [
  {
   "cell_type": "markdown",
   "metadata": {},
   "source": [
    "BIDIRECTIONAL LSTM FOR 2 FEATURE DURATION 24 HOURS"
   ]
  },
  {
   "cell_type": "markdown",
   "metadata": {},
   "source": [
    "Defining feature and duration"
   ]
  },
  {
   "cell_type": "code",
   "execution_count": 1,
   "metadata": {},
   "outputs": [],
   "source": [
    "num_feature = 13\n",
    "time_step = 24"
   ]
  },
  {
   "cell_type": "markdown",
   "metadata": {},
   "source": [
    "Importing library"
   ]
  },
  {
   "cell_type": "code",
   "execution_count": 2,
   "metadata": {},
   "outputs": [],
   "source": [
    "import csv\n",
    "import pandas as pd\n",
    "import numpy as np\n",
    "import matplotlib.pyplot as plt\n",
    "from keras.models import Sequential, load_model\n",
    "from keras.layers import Bidirectional, LSTM, Dense\n",
    "from sklearn.metrics import mean_squared_error, mean_absolute_error\n",
    "from sklearn.preprocessing import OneHotEncoder"
   ]
  },
  {
   "cell_type": "markdown",
   "metadata": {},
   "source": [
    "Importing data"
   ]
  },
  {
   "cell_type": "code",
   "execution_count": 3,
   "metadata": {},
   "outputs": [],
   "source": [
    "filename = './data/07-09-2023.csv'\n",
    "data = []\n",
    "with open(filename, 'r') as file:\n",
    "    csv_reader = csv.reader(file)\n",
    "    for row in csv_reader:\n",
    "        data.append(row)\n",
    "        \n",
    "df = pd.DataFrame(data)\n",
    "df.columns = [\"Record_ID\",\"Time\",\"Timestamp\",\"Temperature\",\"Disolved Oxygen\",\"Salinity\",\"pH\",\"Turbidity\"]\n",
    "df['Record_ID'] = df[\"Record_ID\"].astype(int)\n",
    "df['Time'] = df[\"Time\"].astype(str)\n",
    "df['Temperature'] = df[\"Temperature\"].astype(float)\n",
    "df['Disolved Oxygen'] = df[\"Disolved Oxygen\"].astype(float)\n",
    "df['Salinity'] = df[\"Salinity\"].astype(float)\n",
    "df['pH'] = df[\"pH\"].astype(float)\n",
    "df['Turbidity'] = df[\"Turbidity\"].astype(float)\n",
    "df = df.drop(columns='Timestamp')\n",
    "df = df.drop(columns='Record_ID')\n",
    "df['Time'] = pd.to_datetime(df['Time'],format=\"%d/%m/%Y %H:%M:%S\")\n",
    "df.set_index('Time', inplace=True)\n",
    "df.index = pd.to_datetime(df.index)\n",
    "df.sort_index(inplace=True)\n",
    "df = df.dropna()"
   ]
  },
  {
   "cell_type": "markdown",
   "metadata": {},
   "source": [
    "TEMPERATURE SECTION"
   ]
  },
  {
   "cell_type": "code",
   "execution_count": 4,
   "metadata": {},
   "outputs": [],
   "source": [
    "temp = df['Temperature']\n",
    "temp = temp[temp>=18]\n",
    "temp = temp.resample('H').mean()"
   ]
  },
  {
   "cell_type": "markdown",
   "metadata": {},
   "source": [
    "Splitting train and test data"
   ]
  },
  {
   "cell_type": "code",
   "execution_count": 5,
   "metadata": {},
   "outputs": [],
   "source": [
    "train = temp[(temp.index.year<2022) | ((temp.index.year==2022)&(temp.index.month<9))]\n",
    "test = temp[(temp.index.year>2022) | ((temp.index.year==2022)&(temp.index.month>=9))]"
   ]
  },
  {
   "cell_type": "code",
   "execution_count": 6,
   "metadata": {},
   "outputs": [],
   "source": [
    "month = np.array(train.index.month).reshape(-1,1)\n",
    "encoder = OneHotEncoder()\n",
    "month = encoder.fit(month).transform(month).toarray()\n",
    "train = np.column_stack((train.to_numpy(), month)).reshape(-1,1,13)\n",
    "\n",
    "month = np.array(test.index.month).reshape(-1,1)\n",
    "month = encoder.fit(month).transform(month).toarray()\n",
    "test = np.column_stack((test.to_numpy(), month)).reshape(-1,1,13)"
   ]
  },
  {
   "cell_type": "code",
   "execution_count": 7,
   "metadata": {},
   "outputs": [],
   "source": [
    "def split_train(array: np.array, duration: int):\n",
    "    x = np.empty((0,duration,num_feature))\n",
    "    y = np.empty((0,1))\n",
    "    for i in range(array.shape[0]-duration-1):\n",
    "        new_row_x = array[i:i+duration,0,:].reshape(1, duration,num_feature)\n",
    "        new_row_y = array[i+duration,0,0].reshape(1, 1)\n",
    "        if (np.any(np.isnan(new_row_x)) or np.any(np.isnan(new_row_y))): continue\n",
    "        else:\n",
    "            x = np.concatenate((x,new_row_x),axis=0)\n",
    "            y = np.concatenate((y,new_row_y),axis=0)\n",
    "    return x.reshape(x.shape[0],x.shape[1],num_feature), y.reshape(y.shape[0],1)"
   ]
  },
  {
   "cell_type": "markdown",
   "metadata": {},
   "source": [
    "Create Model"
   ]
  },
  {
   "cell_type": "code",
   "execution_count": 12,
   "metadata": {},
   "outputs": [
    {
     "name": "stdout",
     "output_type": "stream",
     "text": [
      "Model: \"sequential_2\"\n",
      "_________________________________________________________________\n",
      " Layer (type)                Output Shape              Param #   \n",
      "=================================================================\n",
      " bidirectional_2 (Bidirecti  (1, 128)                  39936     \n",
      " onal)                                                           \n",
      "                                                                 \n",
      " dense_2 (Dense)             (1, 1)                    129       \n",
      "                                                                 \n",
      "=================================================================\n",
      "Total params: 40065 (156.50 KB)\n",
      "Trainable params: 40065 (156.50 KB)\n",
      "Non-trainable params: 0 (0.00 Byte)\n",
      "_________________________________________________________________\n",
      "Epoch 1/10\n",
      "486/486 [==============================] - 5s 7ms/step - loss: 2.8034\n",
      "Epoch 2/10\n",
      "486/486 [==============================] - 3s 7ms/step - loss: 0.2263\n",
      "Epoch 3/10\n",
      "486/486 [==============================] - 3s 7ms/step - loss: 0.1528\n",
      "Epoch 4/10\n",
      "486/486 [==============================] - 3s 7ms/step - loss: 0.1267\n",
      "Epoch 5/10\n",
      "486/486 [==============================] - 3s 7ms/step - loss: 0.1210\n",
      "Epoch 6/10\n",
      "486/486 [==============================] - 4s 7ms/step - loss: 0.1177\n",
      "Epoch 7/10\n",
      "486/486 [==============================] - 4s 7ms/step - loss: 0.1139\n",
      "Epoch 8/10\n",
      "486/486 [==============================] - 3s 7ms/step - loss: 0.1105\n",
      "Epoch 9/10\n",
      "486/486 [==============================] - 3s 7ms/step - loss: 0.1078\n",
      "Epoch 10/10\n",
      "486/486 [==============================] - 3s 7ms/step - loss: 0.1033\n"
     ]
    },
    {
     "name": "stderr",
     "output_type": "stream",
     "text": [
      "e:\\EXTERNALC\\Python\\311\\Lib\\site-packages\\keras\\src\\engine\\training.py:3079: UserWarning: You are saving your model as an HDF5 file via `model.save()`. This file format is considered legacy. We recommend using instead the native Keras format, e.g. `model.save('my_model.keras')`.\n",
      "  saving_api.save_model(\n"
     ]
    },
    {
     "name": "stdout",
     "output_type": "stream",
     "text": [
      "267/267 [==============================] - 1s 3ms/step\n",
      "Mean Squared Error (MSE): 0.21725877800528165\n",
      "Mean Absolute Error (MAE): 0.34664329256602544\n",
      "Epoch 1/10\n",
      "486/486 [==============================] - 3s 6ms/step - loss: 0.1037\n",
      "Epoch 2/10\n",
      "486/486 [==============================] - 3s 6ms/step - loss: 0.1011\n",
      "Epoch 3/10\n",
      "486/486 [==============================] - 3s 6ms/step - loss: 0.1053\n",
      "Epoch 4/10\n",
      "486/486 [==============================] - 3s 7ms/step - loss: 0.0988\n",
      "Epoch 5/10\n",
      "486/486 [==============================] - 3s 7ms/step - loss: 0.0928\n",
      "Epoch 6/10\n",
      "486/486 [==============================] - 3s 7ms/step - loss: 0.0996\n",
      "Epoch 7/10\n",
      "486/486 [==============================] - 3s 7ms/step - loss: 0.0890\n",
      "Epoch 8/10\n",
      "486/486 [==============================] - 4s 7ms/step - loss: 0.0930\n",
      "Epoch 9/10\n",
      "486/486 [==============================] - 4s 7ms/step - loss: 0.0967\n",
      "Epoch 10/10\n",
      "486/486 [==============================] - 4s 7ms/step - loss: 0.0897\n"
     ]
    },
    {
     "name": "stderr",
     "output_type": "stream",
     "text": [
      "e:\\EXTERNALC\\Python\\311\\Lib\\site-packages\\keras\\src\\engine\\training.py:3079: UserWarning: You are saving your model as an HDF5 file via `model.save()`. This file format is considered legacy. We recommend using instead the native Keras format, e.g. `model.save('my_model.keras')`.\n",
      "  saving_api.save_model(\n"
     ]
    },
    {
     "name": "stdout",
     "output_type": "stream",
     "text": [
      "267/267 [==============================] - 1s 2ms/step\n",
      "Mean Squared Error (MSE): 0.17031479838870026\n",
      "Mean Absolute Error (MAE): 0.24981490407030527\n"
     ]
    }
   ],
   "source": [
    "model = Sequential()\n",
    "model.add(Bidirectional(LSTM(64,activation='relu', input_shape=(time_step,num_feature))))\n",
    "model.add(Dense(1))\n",
    "model.compile(optimizer='adam', loss='mse')\n",
    "model.build(input_shape=(1,time_step,num_feature))\n",
    "model.summary()\n",
    "mse = 1\n",
    "while mse>0.19:\n",
    "    x_train, y_train = split_train(train,time_step)\n",
    "    model.fit(x_train, y_train, epochs=10)\n",
    "    model.save('./model/Bidirect-LSTM_24h_2feature.h5')\n",
    "    x_test, y_test = split_train(test,time_step)\n",
    "    y_predict = np.array(model.predict(x_test))\n",
    "    y_test = y_test.ravel()\n",
    "    y_predict = y_predict.ravel()\n",
    "    mse = mean_squared_error(y_test, y_predict)\n",
    "    mae = mean_absolute_error(y_test, y_predict)\n",
    "    print(\"Mean Squared Error (MSE):\", mse)\n",
    "    print(\"Mean Absolute Error (MAE):\", mae)"
   ]
  },
  {
   "cell_type": "markdown",
   "metadata": {},
   "source": [
    "Load Model"
   ]
  },
  {
   "cell_type": "code",
   "execution_count": null,
   "metadata": {},
   "outputs": [],
   "source": [
    "# model = load_model('./model/Bidirect-LSTM_24h_2feature.h5')\n",
    "# model.build(input_shape=(1,time_step,num_feature))\n",
    "# model.summary()"
   ]
  },
  {
   "cell_type": "markdown",
   "metadata": {},
   "source": [
    "Predicting 1 hour ahead of 24 hour data point"
   ]
  },
  {
   "cell_type": "code",
   "execution_count": 11,
   "metadata": {},
   "outputs": [
    {
     "name": "stdout",
     "output_type": "stream",
     "text": [
      "267/267 [==============================] - 1s 3ms/step\n",
      "Mean Squared Error (MSE): 0.21648550713894277\n",
      "Mean Absolute Error (MAE): 0.31474751534890094\n"
     ]
    }
   ],
   "source": []
  },
  {
   "cell_type": "code",
   "execution_count": null,
   "metadata": {},
   "outputs": [],
   "source": [
    "time = np.arange(len(y_predict))\n",
    "plt.figure(figsize=(100,6))\n",
    "plt.plot(time, y_test, label=\"Real data\", color='blue')\n",
    "plt.plot(time, y_predict, label=\"Predict\",color='red')\n",
    "plt.xlabel('Date')\n",
    "plt.ylabel('Value')\n",
    "plt.title('Time Series Plot')\n",
    "plt.legend()\n",
    "plt.show()"
   ]
  },
  {
   "cell_type": "markdown",
   "metadata": {},
   "source": [
    "Predicting 3 day ahead of 24 hour data point"
   ]
  },
  {
   "cell_type": "code",
   "execution_count": 13,
   "metadata": {},
   "outputs": [],
   "source": [
    "def period_predict(array: np.array, hours_predict:int, time: np.array):\n",
    "    y_hat = np.empty((array.shape[0],0))\n",
    "    for i in range(hours_predict):\n",
    "        y_hat = np.column_stack((y_hat,np.array(model.predict(array[:,i:,:])).reshape(-1,1)))\n",
    "        time = time + np.timedelta64(1,'h')\n",
    "        months = np.array([d.astype('datetime64[M]').astype(int) % 12 + 1 for d in time]).reshape(-1,1)\n",
    "        months = encoder.fit(months).transform(months).toarray()\n",
    "        data = np.copy(y_hat[:,-1]).reshape(-1,1)\n",
    "        data = np.column_stack((data,months)).reshape(-1,1,num_feature)\n",
    "        array = np.column_stack((array,data))\n",
    "    return y_hat.reshape(y_hat.shape[0],y_hat.shape[1],1)\n",
    "\n",
    "def split_test(array: np.array, duration: int, hours_predict:int, time_index: np.array):\n",
    "    x = np.empty((0,duration,num_feature))\n",
    "    y = np.empty((0,hours_predict))\n",
    "    time = np.empty((0,1), dtype='datetime64')\n",
    "    for i in range(array.shape[0]-duration-hours_predict-1):\n",
    "        new_row_x = array[i:i+duration].reshape(1, duration, num_feature)\n",
    "        new_row_y = array[i+duration:i+duration+hours_predict,0,0].reshape(1, hours_predict)\n",
    "        if (np.any(np.isnan(new_row_x)) or np.any(np.isnan(new_row_y))): continue\n",
    "        else:\n",
    "            x = np.concatenate((x,new_row_x),axis=0)\n",
    "            y = np.concatenate((y,new_row_y),axis=0)\n",
    "            time = np.row_stack((time, [time_index[i]]))\n",
    "    return x.reshape(x.shape[0],x.shape[1],num_feature), y.reshape(y.shape[0],y.shape[1],1),time"
   ]
  },
  {
   "cell_type": "code",
   "execution_count": 14,
   "metadata": {},
   "outputs": [],
   "source": [
    "test = temp[(temp.index.year>2022) | ((temp.index.year==2022)&(temp.index.month>=9))]\n",
    "time = np.array(test.index, dtype='datetime64')\n",
    "month = np.array(test.index.month).reshape(-1,1)\n",
    "month = encoder.fit(month).transform(month).toarray()\n",
    "test = np.column_stack((test.to_numpy(), month)).reshape(-1,1,13)\n",
    "time = time + np.timedelta64(23,'h')"
   ]
  },
  {
   "cell_type": "code",
   "execution_count": 20,
   "metadata": {},
   "outputs": [
    {
     "name": "stdout",
     "output_type": "stream",
     "text": [
      "257/257 [==============================] - 1s 3ms/step\n",
      "257/257 [==============================] - 1s 3ms/step\n",
      "257/257 [==============================] - 1s 3ms/step\n",
      "257/257 [==============================] - 1s 3ms/step\n",
      "257/257 [==============================] - 1s 3ms/step\n",
      "257/257 [==============================] - 1s 3ms/step\n",
      "257/257 [==============================] - 1s 3ms/step\n",
      "257/257 [==============================] - 1s 3ms/step\n",
      "257/257 [==============================] - 1s 3ms/step\n",
      "257/257 [==============================] - 1s 3ms/step\n",
      "257/257 [==============================] - 1s 3ms/step\n",
      "257/257 [==============================] - 1s 3ms/step\n",
      "257/257 [==============================] - 1s 3ms/step\n",
      "257/257 [==============================] - 1s 3ms/step\n",
      "257/257 [==============================] - 1s 3ms/step\n",
      "257/257 [==============================] - 1s 3ms/step\n",
      "257/257 [==============================] - 1s 3ms/step\n",
      "257/257 [==============================] - 1s 3ms/step\n",
      "257/257 [==============================] - 1s 3ms/step\n",
      "257/257 [==============================] - 1s 3ms/step\n",
      "257/257 [==============================] - 1s 3ms/step\n",
      "257/257 [==============================] - 1s 3ms/step\n",
      "257/257 [==============================] - 1s 3ms/step\n",
      "257/257 [==============================] - 1s 3ms/step\n",
      "257/257 [==============================] - 1s 3ms/step\n",
      "257/257 [==============================] - 1s 3ms/step\n",
      "257/257 [==============================] - 1s 3ms/step\n",
      "257/257 [==============================] - 1s 3ms/step\n",
      "257/257 [==============================] - 1s 3ms/step\n",
      "257/257 [==============================] - 1s 3ms/step\n",
      "257/257 [==============================] - 1s 3ms/step\n",
      "257/257 [==============================] - 1s 3ms/step\n",
      "257/257 [==============================] - 1s 3ms/step\n",
      "257/257 [==============================] - 1s 3ms/step\n",
      "257/257 [==============================] - 1s 3ms/step\n",
      "257/257 [==============================] - 1s 3ms/step\n",
      "257/257 [==============================] - 1s 3ms/step\n",
      "257/257 [==============================] - 1s 3ms/step\n",
      "257/257 [==============================] - 1s 3ms/step\n",
      "257/257 [==============================] - 1s 3ms/step\n",
      "257/257 [==============================] - 1s 3ms/step\n",
      "257/257 [==============================] - 1s 3ms/step\n",
      "257/257 [==============================] - 1s 3ms/step\n",
      "257/257 [==============================] - 1s 3ms/step\n",
      "257/257 [==============================] - 1s 3ms/step\n",
      "257/257 [==============================] - 1s 3ms/step\n",
      "257/257 [==============================] - 1s 3ms/step\n",
      "257/257 [==============================] - 1s 3ms/step\n",
      "257/257 [==============================] - 1s 3ms/step\n",
      "257/257 [==============================] - 1s 3ms/step\n",
      "257/257 [==============================] - 1s 3ms/step\n",
      "257/257 [==============================] - 1s 3ms/step\n",
      "257/257 [==============================] - 1s 3ms/step\n",
      "257/257 [==============================] - 1s 3ms/step\n",
      "257/257 [==============================] - 1s 3ms/step\n",
      "257/257 [==============================] - 1s 3ms/step\n",
      "257/257 [==============================] - 1s 3ms/step\n",
      "257/257 [==============================] - 1s 3ms/step\n",
      "257/257 [==============================] - 1s 3ms/step\n",
      "257/257 [==============================] - 1s 3ms/step\n",
      "257/257 [==============================] - 1s 3ms/step\n",
      "257/257 [==============================] - 1s 3ms/step\n",
      "257/257 [==============================] - 1s 3ms/step\n",
      "257/257 [==============================] - 1s 3ms/step\n",
      "257/257 [==============================] - 1s 3ms/step\n",
      "257/257 [==============================] - 1s 3ms/step\n",
      "257/257 [==============================] - 1s 3ms/step\n",
      "257/257 [==============================] - 1s 3ms/step\n",
      "257/257 [==============================] - 1s 3ms/step\n",
      "257/257 [==============================] - 1s 3ms/step\n",
      "257/257 [==============================] - 1s 3ms/step\n",
      "257/257 [==============================] - 1s 3ms/step\n"
     ]
    }
   ],
   "source": [
    "new_x_test, new_y_test, new_time = split_test(test,24,72,time)\n",
    "new_y_predict = period_predict(new_x_test,72,new_time)"
   ]
  },
  {
   "cell_type": "code",
   "execution_count": 21,
   "metadata": {},
   "outputs": [
    {
     "name": "stdout",
     "output_type": "stream",
     "text": [
      "Errors from 0h to 6 h:\n",
      "Mean Squared Error (MSE): 0.5041615294100706\n",
      "Mean Absolute Error (MAE): 0.44809155992009797\n",
      "Errors from 6h to 12 h:\n",
      "Mean Squared Error (MSE): 0.8429631522229771\n",
      "Mean Absolute Error (MAE): 0.6467133117704545\n",
      "Errors from 12h to 18 h:\n",
      "Mean Squared Error (MSE): 0.8787731948883778\n",
      "Mean Absolute Error (MAE): 0.6682636249515566\n",
      "Errors from 18h to 24 h:\n",
      "Mean Squared Error (MSE): 0.8914669440018201\n",
      "Mean Absolute Error (MAE): 0.6784016476997368\n",
      "Errors from 24h to 30 h:\n",
      "Mean Squared Error (MSE): 1.4080672353348167\n",
      "Mean Absolute Error (MAE): 0.8653100111119161\n",
      "Errors from 30h to 36 h:\n",
      "Mean Squared Error (MSE): 1.8576342940396882\n",
      "Mean Absolute Error (MAE): 1.0140253163911905\n",
      "Errors from 36h to 42 h:\n",
      "Mean Squared Error (MSE): 1.9745821616738704\n",
      "Mean Absolute Error (MAE): 1.048824479718192\n",
      "Errors from 42h to 48 h:\n",
      "Mean Squared Error (MSE): 2.003901617261461\n",
      "Mean Absolute Error (MAE): 1.0641706428081268\n",
      "Errors from 48h to 54 h:\n",
      "Mean Squared Error (MSE): 2.5581901439110473\n",
      "Mean Absolute Error (MAE): 1.203721481214074\n",
      "Errors from 54h to 60 h:\n",
      "Mean Squared Error (MSE): 3.186672648517072\n",
      "Mean Absolute Error (MAE): 1.3340736235745656\n",
      "Errors from 60h to 66 h:\n",
      "Mean Squared Error (MSE): 3.5190426754023147\n",
      "Mean Absolute Error (MAE): 1.3872294318680936\n",
      "Errors from 66h to 72 h:\n",
      "Mean Squared Error (MSE): 3.6650069513487016\n",
      "Mean Absolute Error (MAE): 1.4138267869136034\n",
      "Errors in 72 hours\n",
      "Mean Squared Error (MSE): 1.9408718790010175\n",
      "Mean Absolute Error (MAE): 0.9810543264951342\n"
     ]
    }
   ],
   "source": [
    "for i in range(int(72/6)):\n",
    "    frac_y_predict = new_y_predict[:,6*i:6*(i+1)]\n",
    "    frac_y_test = new_y_test[:,6*i:6*(i+1)]\n",
    "    frac_y_predict = frac_y_predict.ravel()\n",
    "    frac_y_test = frac_y_test.ravel()\n",
    "    print(\"Errors from \" + str(6*i) + \"h to \" + str(6*(i+1))+\" h:\")\n",
    "    new_mse = mean_squared_error(frac_y_test, frac_y_predict)\n",
    "    new_mae = mean_absolute_error(frac_y_test, frac_y_predict)\n",
    "    print(\"Mean Squared Error (MSE):\", new_mse)\n",
    "    print(\"Mean Absolute Error (MAE):\", new_mae)\n",
    "\n",
    "new_y_test = new_y_test.ravel()\n",
    "new_y_predict = new_y_predict.ravel()\n",
    "new_mse = mean_squared_error(new_y_test, new_y_predict)\n",
    "new_mae = mean_absolute_error(new_y_test, new_y_predict)\n",
    "print(\"Errors in 72 hours\")\n",
    "print(\"Mean Squared Error (MSE):\", new_mse)\n",
    "print(\"Mean Absolute Error (MAE):\", new_mae)"
   ]
  },
  {
   "cell_type": "code",
   "execution_count": null,
   "metadata": {},
   "outputs": [],
   "source": [
    "diff = np.abs(y_predict - y_test)\n",
    "print(max(diff))"
   ]
  }
 ],
 "metadata": {
  "kernelspec": {
   "display_name": "Python 3",
   "language": "python",
   "name": "python3"
  },
  "language_info": {
   "codemirror_mode": {
    "name": "ipython",
    "version": 3
   },
   "file_extension": ".py",
   "mimetype": "text/x-python",
   "name": "python",
   "nbconvert_exporter": "python",
   "pygments_lexer": "ipython3",
   "version": "3.11.4"
  },
  "orig_nbformat": 4
 },
 "nbformat": 4,
 "nbformat_minor": 2
}
